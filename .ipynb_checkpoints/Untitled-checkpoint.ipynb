{
 "cells": [
  {
   "cell_type": "code",
   "execution_count": 2,
   "metadata": {
    "collapsed": false
   },
   "outputs": [
    {
     "name": "stdout",
     "output_type": "stream",
     "text": [
      "Введите название файла = C:\\TIAS\\innovation_managment_lab\\innovation_managment.csv\n",
      "Файл C:\\TIAS\\innovation_managment_lab\\innovation_managment.csv обнаружен\n",
      "Введите зарплату н/час от 500 до 1500 = 1000\n",
      "Ставка заработной платы в размере 1000 принята\n",
      " Введи ставку рефинансирования ЦБ РФ от 5 до 15% годовых = 10\n",
      "Ставка рефинансирования ЦБ РФ 10 принята\n",
      "305910.9174999999\n"
     ]
    }
   ],
   "source": [
    "import pandas as pd\n",
    "import numpy as np\n",
    "import csv\n",
    "import sys\n",
    "\n",
    "result=0\n",
    "a=0\n",
    "num = 1\n",
    "d=0\n",
    "n =0\n",
    "max=0\n",
    "\n",
    "def scv_data():\n",
    "    while 1:\n",
    "        try:\n",
    "            a=str(input('Введите название файла = '))\n",
    "            data = pd.read_csv(a, sep=';', decimal=',', encoding='cp1251', header=1)\n",
    "            print('Файл',a,'обнаружен')\n",
    "            return data\n",
    "        except (IOError, Exception):\n",
    "            print('Файл не обнаружен. Повтори еще раз')\n",
    "\n",
    "def salary():\n",
    "    while 1:\n",
    "        try:\n",
    "            b=int(input('Введите зарплату н/час от 500 до 1500 = '))\n",
    "\n",
    "            if (b>=500 and b<=1500):\n",
    "                print('Ставка заработной платы в размере',b,'принята')\n",
    "                return b\n",
    "        except (IOError, Exception):\n",
    "            print('Введи корректное число')\n",
    "\n",
    "def rate_bank():\n",
    "    while 1:\n",
    "        try:\n",
    "            d=int(input(' Введи ставку рефинансирования ЦБ РФ от 5 до 15% годовых = '))\n",
    "            if (d<=15 and d>5):\n",
    "                print('Ставка рефинансирования ЦБ РФ', d, 'принята')\n",
    "                return d\n",
    "        except [IOError, Exception]:\n",
    "            print('Введи корректное число')\n",
    "\n",
    "\n",
    "data=scv_data()\n",
    "b=salary()\n",
    "d=rate_bank()\n",
    "\n",
    "for index, row in data.iterrows():\n",
    "    row[4] = float(row[4].replace(' ', '')) # TendDS\n",
    "    row[6] = float(row[6].replace(' ',''))  # Tш\n",
    "    row[7] = float(row[7].replace(' ', '')) # Тпз\n",
    "    row[14]= float(row[14].replace(' ', '')) #  КОЛds\n",
    "   # print(row[6],row[6],row[7],row[14]) # Вывод всех столбцов\n",
    "    result += (row[4] * (row[6] * row[14] + row[7])) # Результат\n",
    "\n",
    "#for row in data.iterrows():\n",
    " #   if (row[5]>max):\n",
    "  #      max = row[5]\n",
    "\n",
    "print(result)"
   ]
  }
 ],
 "metadata": {
  "kernelspec": {
   "display_name": "Python 3",
   "language": "python",
   "name": "python3"
  },
  "language_info": {
   "codemirror_mode": {
    "name": "ipython",
    "version": 3
   },
   "file_extension": ".py",
   "mimetype": "text/x-python",
   "name": "python",
   "nbconvert_exporter": "python",
   "pygments_lexer": "ipython3",
   "version": "3.6.0"
  }
 },
 "nbformat": 4,
 "nbformat_minor": 2
}
